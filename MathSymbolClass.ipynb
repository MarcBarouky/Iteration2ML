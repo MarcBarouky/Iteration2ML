{
 "cells": [
  {
   "cell_type": "code",
   "execution_count": null,
   "metadata": {},
   "outputs": [],
   "source": [
    "from random import randint\n",
    "\n",
    "import cv2\n",
    "import os\n",
    "\n",
    "import pandas as pd\n",
    "import numpy as np\n",
    "import matplotlib.pyplot as plt"
   ]
  },
  {
   "cell_type": "code",
   "execution_count": null,
   "metadata": {},
   "outputs": [],
   "source": [
    "import tensorflow as tf\n",
    "\n",
    "from tensorflow import keras\n",
    "from tensorflow.keras import layers\n",
    "\n",
    "from tensorflow.keras.preprocessing.image import ImageDataGenerator"
   ]
  },
  {
   "cell_type": "code",
   "execution_count": null,
   "metadata": {},
   "outputs": [],
   "source": [
    "train_dir = r'C:\\Users\\marcb\\Desktop\\ESIB\\2eme anne\\sem2\\ML\\projects\\Iteration2\\Train'\n",
    "test_dir = r'C:\\Users\\marcb\\Desktop\\ESIB\\2eme anne\\sem2\\ML\\projects\\Iteration2\\Test'"
   ]
  },
  {
   "cell_type": "code",
   "execution_count": null,
   "metadata": {},
   "outputs": [],
   "source": [
    "train_image_generator = ImageDataGenerator(rescale=1./255)\n",
    "\n",
    "test_image_generator = ImageDataGenerator(rescale=1./255)"
   ]
  },
  {
   "cell_type": "code",
   "execution_count": null,
   "metadata": {},
   "outputs": [],
   "source": [
    "batch_size = 128"
   ]
  },
  {
   "cell_type": "code",
   "execution_count": null,
   "metadata": {},
   "outputs": [],
   "source": [
    "train_data_gen = train_image_generator.flow_from_directory(batch_size=batch_size,\n",
    "                                                           directory=train_dir,\n",
    "                                                           shuffle=True,\n",
    "                                                           target_size=(32, 32))"
   ]
  },
  {
   "cell_type": "code",
   "execution_count": null,
   "metadata": {},
   "outputs": [],
   "source": [
    "height = 32\n",
    "width = 32"
   ]
  },
  {
   "cell_type": "code",
   "execution_count": null,
   "metadata": {},
   "outputs": [],
   "source": [
    "\n",
    "train_images = tf.keras.preprocessing.image_dataset_from_directory(\n",
    "    train_dir,\n",
    "    image_size=(height, width),  # Size to which images are resized\n",
    "    batch_size=batch_size)\n",
    "\n",
    "test_images = tf.keras.preprocessing.image_dataset_from_directory(\n",
    "    test_dir,\n",
    "    image_size=(height, width),\n",
    "    batch_size=batch_size)\n"
   ]
  },
  {
   "cell_type": "code",
   "execution_count": null,
   "metadata": {},
   "outputs": [],
   "source": [
    "test_data_gen = test_image_generator.flow_from_directory(batch_size=batch_size,\n",
    "                                                         directory=test_dir,\n",
    "                                                         shuffle=True,\n",
    "                                                         target_size=(32, 32))"
   ]
  },
  {
   "cell_type": "code",
   "execution_count": null,
   "metadata": {},
   "outputs": [],
   "source": [
    "sample_batch = next(train_data_gen)\n",
    "\n",
    "sample_batch[0].shape"
   ]
  },
  {
   "cell_type": "code",
   "execution_count": null,
   "metadata": {},
   "outputs": [],
   "source": [
    "out_shape = 7 # number of classes"
   ]
  },
  {
   "cell_type": "code",
   "execution_count": null,
   "metadata": {},
   "outputs": [],
   "source": [
    "conv_model = tf.keras.models.Sequential([\n",
    "\n",
    "    layers.Conv2D(16, (3, 3), padding='same', activation='relu', \n",
    "                  input_shape=sample_batch[0].shape[1:]),\n",
    "    layers.Conv2D(32, (3, 3), padding='same', activation='relu'),\n",
    "    layers.MaxPooling2D(pool_size=(2, 2)),\n",
    "    \n",
    "    layers.Conv2D(64, (3, 3), padding='same', activation='relu'),\n",
    "    layers.Conv2D(128, (3, 3), padding='same', activation='relu'),\n",
    "    layers.MaxPooling2D(pool_size=(2, 2)),\n",
    "    \n",
    "    layers.Flatten(),\n",
    "    \n",
    "    layers.Dense(512, activation='relu'),\n",
    "    layers.Dense(256, activation='relu'),\n",
    "    layers.Dense(out_shape, activation='softmax')\n",
    "\n",
    "])"
   ]
  },
  {
   "cell_type": "code",
   "execution_count": null,
   "metadata": {},
   "outputs": [],
   "source": [
    "conv_model.compile(optimizer='adam',\n",
    "                   loss=tf.keras.losses.CategoricalCrossentropy(from_logits=True),\n",
    "                   metrics=['accuracy','recall','precision'])"
   ]
  },
  {
   "cell_type": "code",
   "execution_count": null,
   "metadata": {},
   "outputs": [],
   "source": [
    "keras.utils.plot_model(conv_model, 'model_image_classification_shapes.png', show_shapes=True)"
   ]
  },
  {
   "cell_type": "code",
   "execution_count": null,
   "metadata": {},
   "outputs": [],
   "source": [
    "training_hist = conv_model.fit(train_data_gen,\n",
    "                               epochs=5,\n",
    "                               steps_per_epoch=len(train_images) // batch_size,\n",
    "                               validation_data=test_data_gen,\n",
    "                               validation_steps=len(test_images) // batch_size)"
   ]
  },
  {
   "cell_type": "code",
   "execution_count": null,
   "metadata": {},
   "outputs": [],
   "source": [
    "acc = training_hist.history['accuracy']\n",
    "val_acc = training_hist.history['val_accuracy']\n",
    "\n",
    "loss = training_hist.history['loss']\n",
    "val_loss = training_hist.history['val_loss']\n",
    "\n",
    "rec = training_hist.history['recall']\n",
    "val_rec = training_hist.history['val_recall']\n",
    "\n",
    "pre = training_hist.history['precision']\n",
    "val_pre = training_hist.history['val_precision']\n",
    "\n",
    "epochs_range = range(5)\n",
    "\n",
    "plt.figure(figsize=(12, 8))\n",
    "\n",
    "#accuracy\n",
    "plt.subplot(2, 2, 1)\n",
    "plt.plot(epochs_range, acc, label='Training Accuracy')\n",
    "plt.plot(epochs_range, val_acc, label='Validation Accuracy')\n",
    "\n",
    "plt.legend(loc='lower right')\n",
    "plt.title('Training and Validation Accuracy')\n",
    "\n",
    "#precision\n",
    "plt.subplot(2, 2, 2)\n",
    "\n",
    "plt.plot(epochs_range, pre, label='Training Precision')\n",
    "plt.plot(epochs_range, val_pre, label='Validation Precision')\n",
    "\n",
    "plt.legend(loc='lower right')\n",
    "plt.title('Training and Validation Precision')\n",
    "\n",
    "#recall\n",
    "plt.subplot(2, 2, 3)\n",
    "\n",
    "plt.plot(epochs_range, rec, label='Training Recall')\n",
    "plt.plot(epochs_range, val_rec, label='Validation Recall')\n",
    "\n",
    "plt.legend(loc='lower right')\n",
    "plt.title('Training and Validation Recall')\n",
    "\n",
    "#loss\n",
    "plt.subplot(2, 2, 4)\n",
    "plt.plot(epochs_range, loss, label='Training Loss')\n",
    "plt.plot(epochs_range, val_loss, label='Validation Loss')\n",
    "\n",
    "plt.legend(loc='lower left')\n",
    "\n",
    "plt.title('Training and Validation Loss') \n",
    "\n",
    "\n",
    "\n",
    "\n",
    "plt.show()"
   ]
  },
  {
   "cell_type": "code",
   "execution_count": null,
   "metadata": {},
   "outputs": [],
   "source": [
    "training_hist2 = conv_model.fit(train_data_gen,\n",
    "                               epochs=4,\n",
    "                               steps_per_epoch=len(train_images) // batch_size,\n",
    "                               validation_data=test_data_gen,\n",
    "                               validation_steps=len(test_images) // batch_size)"
   ]
  },
  {
   "cell_type": "code",
   "execution_count": null,
   "metadata": {},
   "outputs": [],
   "source": [
    "acc = training_hist2.history['accuracy']\n",
    "val_acc = training_hist2.history['val_accuracy']\n",
    "\n",
    "loss = training_hist2.history['loss']\n",
    "val_loss = training_hist2.history['val_loss']\n",
    "\n",
    "rec = training_hist2.history['recall']\n",
    "val_rec = training_hist2.history['val_recall']\n",
    "\n",
    "pre = training_hist2.history['precision']\n",
    "val_pre = training_hist2.history['val_precision']\n",
    "\n",
    "epochs_range = range(4)\n",
    "\n",
    "plt.figure(figsize=(12, 8))\n",
    "\n",
    "#accuracy\n",
    "plt.subplot(2, 2, 1)\n",
    "plt.plot(epochs_range, acc, label='Training Accuracy')\n",
    "plt.plot(epochs_range, val_acc, label='Validation Accuracy')\n",
    "\n",
    "plt.legend(loc='lower right')\n",
    "plt.title('Training and Validation Accuracy')\n",
    "\n",
    "#precision\n",
    "plt.subplot(2, 2, 2)\n",
    "\n",
    "plt.plot(epochs_range, pre, label='Training Precision')\n",
    "plt.plot(epochs_range, val_pre, label='Validation Precision')\n",
    "\n",
    "plt.legend(loc='lower right')\n",
    "plt.title('Training and Validation Precision')\n",
    "\n",
    "#recall\n",
    "plt.subplot(2, 2, 3)\n",
    "\n",
    "plt.plot(epochs_range, rec, label='Training Recall')\n",
    "plt.plot(epochs_range, val_rec, label='Validation Recall')\n",
    "\n",
    "plt.legend(loc='lower right')\n",
    "plt.title('Training and Validation Recall')\n",
    "\n",
    "#loss\n",
    "plt.subplot(2, 2, 4)\n",
    "plt.plot(epochs_range, loss, label='Training Loss')\n",
    "plt.plot(epochs_range, val_loss, label='Validation Loss')\n",
    "\n",
    "plt.legend(loc='lower left')\n",
    "\n",
    "plt.title('Training and Validation Loss') \n",
    "\n",
    "\n",
    "\n",
    "\n",
    "plt.show()"
   ]
  },
  {
   "cell_type": "markdown",
   "metadata": {},
   "source": [
    "Building an auto-encoder "
   ]
  },
  {
   "cell_type": "code",
   "execution_count": null,
   "metadata": {},
   "outputs": [],
   "source": [
    "stacked_encoder = tf.keras.models.Sequential([\n",
    "    \n",
    "    layers.Flatten(input_shape=[32, 32, 3]),\n",
    "\n",
    "    layers.Dense(64, activation=\"relu\"),\n",
    "    layers.Dense(32, activation=\"relu\"),\n",
    "    \n",
    "    layers.Dense(16, activation=\"relu\")\n",
    "])"
   ]
  },
  {
   "cell_type": "code",
   "execution_count": null,
   "metadata": {},
   "outputs": [],
   "source": [
    "stacked_encoder.summary()"
   ]
  },
  {
   "cell_type": "code",
   "execution_count": null,
   "metadata": {},
   "outputs": [],
   "source": [
    "stacked_decoder = tf.keras.models.Sequential([\n",
    "    \n",
    "    layers.Dense(32, activation=\"relu\", input_shape=[16]),\n",
    "\n",
    "    layers.Dense(64, activation=\"relu\"),\n",
    "    \n",
    "    layers.Dense(32 * 32 * 3, activation=\"relu\"),\n",
    "                                           \n",
    "    layers.Reshape([32, 32, 3])\n",
    "])"
   ]
  },
  {
   "cell_type": "code",
   "execution_count": null,
   "metadata": {},
   "outputs": [],
   "source": [
    "stacked_decoder.summary()"
   ]
  },
  {
   "cell_type": "code",
   "execution_count": null,
   "metadata": {},
   "outputs": [],
   "source": [
    "ae_model = tf.keras.models.Sequential([stacked_encoder, stacked_decoder])\n",
    "\n",
    "ae_model.summary()"
   ]
  },
  {
   "cell_type": "code",
   "execution_count": null,
   "metadata": {},
   "outputs": [],
   "source": [
    "ae_model.compile(loss='mean_absolute_error',\n",
    "                 optimizer=tf.keras.optimizers.RMSprop(), \n",
    "                 metrics=['mae'])"
   ]
  },
  {
   "cell_type": "code",
   "execution_count": null,
   "metadata": {},
   "outputs": [],
   "source": [
    "train_data_gen"
   ]
  },
  {
   "cell_type": "code",
   "execution_count": null,
   "metadata": {},
   "outputs": [],
   "source": []
  }
 ],
 "metadata": {
  "kernelspec": {
   "display_name": "Python 3 (ipykernel)",
   "language": "python",
   "name": "python3"
  },
  "language_info": {
   "codemirror_mode": {
    "name": "ipython",
    "version": 3
   },
   "file_extension": ".py",
   "mimetype": "text/x-python",
   "name": "python",
   "nbconvert_exporter": "python",
   "pygments_lexer": "ipython3",
   "version": "3.11.5"
  }
 },
 "nbformat": 4,
 "nbformat_minor": 2
}
